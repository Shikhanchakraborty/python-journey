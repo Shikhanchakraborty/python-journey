{
 "cells": [
  {
   "attachments": {},
   "cell_type": "markdown",
   "metadata": {},
   "source": [
    "## Python file folder making"
   ]
  },
  {
   "cell_type": "code",
   "execution_count": 9,
   "metadata": {},
   "outputs": [
    {
     "name": "stdout",
     "output_type": "stream",
     "text": [
      "False\n",
      "True\n"
     ]
    }
   ],
   "source": [
    "# file in writing mode\n",
    "file=open(\"file.txt\",mode=\"w\")\n",
    "file.write(\"Data\")\n",
    "print(file.closed)\n",
    "file.close()\n",
    "print(file.closed)"
   ]
  },
  {
   "cell_type": "code",
   "execution_count": 10,
   "metadata": {},
   "outputs": [],
   "source": [
    "# file in MultipleWriting mode\n",
    "file=open(\"file.txt\",mode=\"w\")\n",
    "#file.write(\"Data\\n\")\n",
    "file.writelines([\"Shikhan 1\\n\",\"Kakan 2\\n\",\"Kazal 3\\n\"])\n",
    "file.close()"
   ]
  },
  {
   "cell_type": "code",
   "execution_count": 11,
   "metadata": {},
   "outputs": [],
   "source": [
    "# file in appending mode\n",
    "\n",
    "file=open(\"file.txt\",mode=\"a\")\n",
    "file.write(\"Shibu 4\\n\")\n",
    "#file.writelines([\"Shikhan 1\\n\",\"Kakan 2\\n\",\"Kazal 3\"])\n",
    "file.close()"
   ]
  },
  {
   "cell_type": "code",
   "execution_count": 16,
   "metadata": {},
   "outputs": [],
   "source": [
    "# file in exclusive mode\n",
    "file=open(\"file1.txt\",mode=\"x\")\n",
    "file.write(\"Liton 5\") # this method work only same file mode not exist\n",
    "file.close()"
   ]
  },
  {
   "cell_type": "code",
   "execution_count": 23,
   "metadata": {},
   "outputs": [
    {
     "name": "stdout",
     "output_type": "stream",
     "text": [
      "Shikhan 1\n",
      "Kakan 2\n",
      "Kazal 3\n",
      "Shibu 4\n",
      "\n"
     ]
    }
   ],
   "source": [
    "# file in reading mode\n",
    "file=open(\"file.txt\",mode=\"r\")\n",
    "print(file.read())\n",
    "file.close()"
   ]
  },
  {
   "cell_type": "code",
   "execution_count": 24,
   "metadata": {},
   "outputs": [
    {
     "name": "stdout",
     "output_type": "stream",
     "text": [
      "['Shikhan 1\\n', 'Kakan 2\\n', 'Kazal 3\\n', 'Shibu 4\\n']\n"
     ]
    }
   ],
   "source": [
    "# file in reading mode with [readlines]\n",
    "file=open(\"file.txt\",mode=\"r\")\n",
    "print(file.readlines())\n",
    "file.close()"
   ]
  },
  {
   "cell_type": "code",
   "execution_count": 28,
   "metadata": {},
   "outputs": [
    {
     "name": "stdout",
     "output_type": "stream",
     "text": [
      "Shikha\n"
     ]
    }
   ],
   "source": [
    "# file in reading mode with [readline]\n",
    "file=open(\"file.txt\",mode=\"r\")\n",
    "print(file.readline(6))\n",
    "file.close()"
   ]
  },
  {
   "cell_type": "code",
   "execution_count": 34,
   "metadata": {},
   "outputs": [
    {
     "name": "stdout",
     "output_type": "stream",
     "text": [
      "akan\n"
     ]
    }
   ],
   "source": [
    "# file in reading mode with [seek operation]\n",
    "file=open(\"file.txt\",mode=\"r\")\n",
    "file.seek(12)\n",
    "print(file.readline(4))\n",
    "file.close()"
   ]
  },
  {
   "cell_type": "code",
   "execution_count": 39,
   "metadata": {},
   "outputs": [
    {
     "name": "stdout",
     "output_type": "stream",
     "text": [
      "False\n",
      "True\n"
     ]
    }
   ],
   "source": [
    "# Checking read or write mode\n",
    "file=open(\"file1.txt\",mode=\"w\")\n",
    "print(file.readable())\n",
    "print(file.writable())\n",
    "file.close()"
   ]
  },
  {
   "cell_type": "code",
   "execution_count": 41,
   "metadata": {},
   "outputs": [
    {
     "name": "stdout",
     "output_type": "stream",
     "text": [
      "b'Shikhan 1\\r\\nKakan 2\\r\\nKazal 3\\r\\nShibu 4\\r\\n'\n"
     ]
    }
   ],
   "source": [
    "#  bytes mode (machine mode)\n",
    "file=open(\"file.txt\",mode=\"rb\")\n",
    "print(file.read())\n",
    "file.close()"
   ]
  },
  {
   "cell_type": "code",
   "execution_count": 59,
   "metadata": {},
   "outputs": [
    {
     "name": "stdout",
     "output_type": "stream",
     "text": [
      "True\n",
      "True\n"
     ]
    }
   ],
   "source": [
    "file=open(\"file1.txt\",mode=\"r+\")\n",
    "print(file.readable())\n",
    "print(file.writable())\n",
    "file.close()"
   ]
  },
  {
   "attachments": {},
   "cell_type": "markdown",
   "metadata": {},
   "source": [
    "## @ opening file with session"
   ]
  },
  {
   "cell_type": "code",
   "execution_count": 47,
   "metadata": {},
   "outputs": [],
   "source": [
    "with open(\"File2.txt\",mode=\"w\") as file1:\n",
    "    file1.write(\"Liton 6\")"
   ]
  },
  {
   "cell_type": "code",
   "execution_count": 56,
   "metadata": {},
   "outputs": [
    {
     "name": "stdout",
     "output_type": "stream",
     "text": [
      "b'Liton 6'\n"
     ]
    }
   ],
   "source": [
    "with open(\"File2.txt\",mode=\"rb\") as file1:\n",
    "    print(file1.read())"
   ]
  }
 ],
 "metadata": {
  "kernelspec": {
   "display_name": "Python 3",
   "language": "python",
   "name": "python3"
  },
  "language_info": {
   "codemirror_mode": {
    "name": "ipython",
    "version": 3
   },
   "file_extension": ".py",
   "mimetype": "text/x-python",
   "name": "python",
   "nbconvert_exporter": "python",
   "pygments_lexer": "ipython3",
   "version": "3.11.0 (main, Oct 24 2022, 18:26:48) [MSC v.1933 64 bit (AMD64)]"
  },
  "orig_nbformat": 4,
  "vscode": {
   "interpreter": {
    "hash": "6cd7ecbf46b3498f952f614292bd9b98de37d868a382baadab1fa3f5188ed6c2"
   }
  }
 },
 "nbformat": 4,
 "nbformat_minor": 2
}

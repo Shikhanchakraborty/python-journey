{
 "cells": [
  {
   "attachments": {},
   "cell_type": "markdown",
   "metadata": {},
   "source": [
    "## if else"
   ]
  },
  {
   "cell_type": "code",
   "execution_count": 2,
   "metadata": {},
   "outputs": [
    {
     "name": "stdout",
     "output_type": "stream",
     "text": [
      "['False', 'None', 'True', 'and', 'as', 'assert', 'async', 'await', 'break', 'class', 'continue', 'def', 'del', 'elif', 'else', 'except', 'finally', 'for', 'from', 'global', 'if', 'import', 'in', 'is', 'lambda', 'nonlocal', 'not', 'or', 'pass', 'raise', 'return', 'try', 'while', 'with', 'yield']\n"
     ]
    }
   ],
   "source": [
    "import keyword\n",
    "print(keyword.kwlist)"
   ]
  },
  {
   "cell_type": "code",
   "execution_count": 5,
   "metadata": {},
   "outputs": [],
   "source": [
    "age=60\n"
   ]
  },
  {
   "cell_type": "code",
   "execution_count": 6,
   "metadata": {},
   "outputs": [
    {
     "name": "stdout",
     "output_type": "stream",
     "text": [
      "He earn credit card\n"
     ]
    }
   ],
   "source": [
    "if age >= 58:\n",
    "    print(\"He earn credit card\")"
   ]
  },
  {
   "cell_type": "code",
   "execution_count": 10,
   "metadata": {},
   "outputs": [
    {
     "name": "stdout",
     "output_type": "stream",
     "text": [
      "Earn devit card\n"
     ]
    }
   ],
   "source": [
    "age =50\n",
    "if age >= 58:\n",
    "    print(\"can not earn credit card\") # Normal if else\n",
    "else:\n",
    "    print(\"Earn devit card\")"
   ]
  },
  {
   "cell_type": "code",
   "execution_count": 19,
   "metadata": {},
   "outputs": [
    {
     "name": "stdout",
     "output_type": "stream",
     "text": [
      "pure man\n"
     ]
    }
   ],
   "source": [
    "# Nested if else\n",
    "\n",
    "age =60\n",
    "salary= 45000\n",
    "if age >= 58:\n",
    "    if salary >=300000:\n",
    "      print(\"can not earn credit card\")\n",
    "      print(\"He rich man\")\n",
    "      \n",
    "    else:\n",
    "        print(\"pure man\")\n",
    "else:\n",
    "    print(\"Earn devit card\")"
   ]
  },
  {
   "cell_type": "code",
   "execution_count": 26,
   "metadata": {},
   "outputs": [
    {
     "name": "stdout",
     "output_type": "stream",
     "text": [
      "Earn not money\n"
     ]
    }
   ],
   "source": [
    "age = 60\n",
    "salary=46000\n",
    "if (age >= 70) and (salary >= 600000):\n",
    "    print(\"Earn money\")\n",
    "else:\n",
    "    print(\"Earn not money\")"
   ]
  },
  {
   "cell_type": "code",
   "execution_count": 25,
   "metadata": {},
   "outputs": [
    {
     "name": "stdout",
     "output_type": "stream",
     "text": [
      "Earn money\n"
     ]
    }
   ],
   "source": [
    "age = 80\n",
    "salary=46000\n",
    "if (age >= 70) or (salary >= 600000):\n",
    "    print(\"Earn money\")\n",
    "else:\n",
    "    print(\"Earn not money\")"
   ]
  },
  {
   "cell_type": "code",
   "execution_count": 38,
   "metadata": {},
   "outputs": [
    {
     "name": "stdout",
     "output_type": "stream",
     "text": [
      "can not earn credit card\n"
     ]
    }
   ],
   "source": [
    "age =80\n",
    "salary= 45000\n",
    "if age >= 58:\n",
    "    print(\"can not earn credit card\")\n",
    "\n",
    "elif salary >=30000:\n",
    "        print(\"He rich man\")\n",
    "        if age >= 70:\n",
    "          print(\"Green card\")\n",
    "\n",
    "else:\n",
    "    print(\"Earn devit card\")"
   ]
  },
  {
   "cell_type": "code",
   "execution_count": 47,
   "metadata": {},
   "outputs": [
    {
     "name": "stdout",
     "output_type": "stream",
     "text": [
      "Pure man\n"
     ]
    }
   ],
   "source": [
    "age =55\n",
    "salary=55000\n",
    "money=66000000\n",
    "if age >=50 and salary >= 60000:\n",
    "    print(\"Rich man\")\n",
    "elif money >=70000:\n",
    "    print(\"Pure man\")\n",
    "else:\n",
    "    print(\"not man\")"
   ]
  },
  {
   "cell_type": "code",
   "execution_count": null,
   "metadata": {},
   "outputs": [],
   "source": []
  },
  {
   "cell_type": "code",
   "execution_count": null,
   "metadata": {},
   "outputs": [],
   "source": []
  },
  {
   "cell_type": "code",
   "execution_count": 50,
   "metadata": {},
   "outputs": [
    {
     "name": "stdout",
     "output_type": "stream",
     "text": [
      "odd number\n"
     ]
    }
   ],
   "source": [
    "num=9\n",
    "if num/2==0:\n",
    "    print(\"even number\")\n",
    "else:\n",
    "    print(\"odd number\")"
   ]
  },
  {
   "cell_type": "code",
   "execution_count": 83,
   "metadata": {},
   "outputs": [
    {
     "name": "stdout",
     "output_type": "stream",
     "text": [
      "0\n"
     ]
    }
   ],
   "source": [
    "x,y,z,w=13,8,3,7\n",
    "if x>y>z>w:\n",
    "    print(x)\n",
    "elif y>x>z>w:\n",
    "    print(y)\n",
    "elif z>x>y>w:\n",
    "    print(z)\n",
    "elif w>x>y>z:\n",
    "     print(w)\n",
    "else:\n",
    "    print(\"0\")"
   ]
  },
  {
   "cell_type": "code",
   "execution_count": 88,
   "metadata": {},
   "outputs": [
    {
     "name": "stdout",
     "output_type": "stream",
     "text": [
      "88\n"
     ]
    }
   ],
   "source": [
    "x,y,z,w=13,88,23,76\n",
    "if x>y and x>z and x>w:\n",
    "    print(x)\n",
    "elif y>x and  y>z and y>w:\n",
    "    print(y)\n",
    "elif z>x and  z>y and z>w:\n",
    "    print(z)\n",
    "#elif w>x and  w>y and w>z:\n",
    "    #print(z)\n",
    "else:\n",
    "    print(w)\n"
   ]
  },
  {
   "cell_type": "code",
   "execution_count": 91,
   "metadata": {},
   "outputs": [
    {
     "data": {
      "text/plain": [
       "88"
      ]
     },
     "execution_count": 91,
     "metadata": {},
     "output_type": "execute_result"
    }
   ],
   "source": [
    "x,y,z,w=13,88,23,76\n",
    "largest=0\n",
    "\n",
    "largest=x if (x>y and x>z and x>w) else y if (y>x and  y>z and y>w) else(z if(z>x and  z>y and z>w) else w)\n",
    "largest"
   ]
  },
  {
   "cell_type": "code",
   "execution_count": null,
   "metadata": {},
   "outputs": [],
   "source": []
  },
  {
   "cell_type": "markdown",
   "metadata": {},
   "source": []
  }
 ],
 "metadata": {
  "kernelspec": {
   "display_name": "Python 3",
   "language": "python",
   "name": "python3"
  },
  "language_info": {
   "codemirror_mode": {
    "name": "ipython",
    "version": 3
   },
   "file_extension": ".py",
   "mimetype": "text/x-python",
   "name": "python",
   "nbconvert_exporter": "python",
   "pygments_lexer": "ipython3",
   "version": "3.11.0 (main, Oct 24 2022, 18:26:48) [MSC v.1933 64 bit (AMD64)]"
  },
  "orig_nbformat": 4,
  "vscode": {
   "interpreter": {
    "hash": "6cd7ecbf46b3498f952f614292bd9b98de37d868a382baadab1fa3f5188ed6c2"
   }
  }
 },
 "nbformat": 4,
 "nbformat_minor": 2
}

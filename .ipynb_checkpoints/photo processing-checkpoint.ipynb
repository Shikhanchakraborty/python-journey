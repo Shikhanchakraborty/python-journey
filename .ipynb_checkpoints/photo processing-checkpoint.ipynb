{
 "cells": [
  {
   "cell_type": "code",
   "execution_count": 32,
   "id": "57c19ecd",
   "metadata": {},
   "outputs": [],
   "source": [
    "import numpy as np\n",
    "import matplotlib.pyplot as plt\n",
    "%matplotlib notebook"
   ]
  },
  {
   "cell_type": "code",
   "execution_count": 33,
   "id": "c049049d",
   "metadata": {},
   "outputs": [],
   "source": [
    "from skimage import io"
   ]
  },
  {
   "cell_type": "code",
   "execution_count": 34,
   "id": "43566060",
   "metadata": {},
   "outputs": [],
   "source": [
    "image=io.imread('Birds.jpg')\n",
    "image"
   ]
  },
  {
   "cell_type": "code",
   "execution_count": 36,
   "id": "e5991292",
   "metadata": {},
   "outputs": [],
   "source": [
    "image.ndim"
   ]
  },
  {
   "cell_type": "code",
   "execution_count": 38,
   "id": "e797ef18",
   "metadata": {},
   "outputs": [],
   "source": [
    "image.shape"
   ]
  },
  {
   "cell_type": "code",
   "execution_count": 26,
   "id": "802aeca0",
   "metadata": {},
   "outputs": [],
   "source": [
    "io.imshow(image)"
   ]
  },
  {
   "cell_type": "code",
   "execution_count": 27,
   "id": "89e37dba",
   "metadata": {},
   "outputs": [],
   "source": [
    "io.imshow(image[:,:,0])"
   ]
  },
  {
   "cell_type": "code",
   "execution_count": 28,
   "id": "337019fa",
   "metadata": {},
   "outputs": [],
   "source": [
    "io.imshow(image[50:400,150:600])"
   ]
  },
  {
   "cell_type": "code",
   "execution_count": 29,
   "id": "1a2cba92",
   "metadata": {},
   "outputs": [],
   "source": [
    "io,imshow(image)"
   ]
  },
  {
   "cell_type": "code",
   "execution_count": null,
   "id": "7609575d",
   "metadata": {},
   "outputs": [],
   "source": []
  },
  {
   "cell_type": "code",
   "execution_count": null,
   "id": "ba23a14a",
   "metadata": {},
   "outputs": [],
   "source": []
  }
 ],
 "metadata": {
  "kernelspec": {
   "display_name": "Python 3 (ipykernel)",
   "language": "python",
   "name": "python3"
  },
  "language_info": {
   "codemirror_mode": {
    "name": "ipython",
    "version": 3
   },
   "file_extension": ".py",
   "mimetype": "text/x-python",
   "name": "python",
   "nbconvert_exporter": "python",
   "pygments_lexer": "ipython3",
   "version": "3.9.6"
  },
  "widgets": {
   "application/vnd.jupyter.widget-state+json": {
    "state": {},
    "version_major": 2,
    "version_minor": 0
   }
  }
 },
 "nbformat": 4,
 "nbformat_minor": 5
}

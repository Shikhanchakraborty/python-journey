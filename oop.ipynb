{
 "cells": [
  {
   "attachments": {},
   "cell_type": "markdown",
   "metadata": {},
   "source": [
    "## Object Oriented program"
   ]
  },
  {
   "cell_type": "code",
   "execution_count": 17,
   "metadata": {},
   "outputs": [],
   "source": [
    "class product:\n",
    "    # Class variable or attributes\n",
    "    platform= \"AMAZON\"\n",
    "\n",
    "    # Constructore\n",
    "    def __init__(self,title: str,price:float) -> None:\n",
    "       #  instance variable\n",
    "        self.title=title\n",
    "        self.price=price\n",
    "        #self.discount=10\n",
    "\n",
    "    # Methods or Behaviours\n",
    "    def getDiscount(self)->float:\n",
    "        return self.price*0.9\n",
    "\n"
   ]
  },
  {
   "cell_type": "code",
   "execution_count": 18,
   "metadata": {},
   "outputs": [],
   "source": [
    "# Object Creation\n",
    "p1=product(\"Iphone\",12000.0)\n",
    "p2=product(\"Nokia\",10000.0)"
   ]
  },
  {
   "cell_type": "code",
   "execution_count": 19,
   "metadata": {},
   "outputs": [
    {
     "data": {
      "text/plain": [
       "'Iphone'"
      ]
     },
     "execution_count": 19,
     "metadata": {},
     "output_type": "execute_result"
    }
   ],
   "source": [
    "p1.title"
   ]
  },
  {
   "cell_type": "code",
   "execution_count": 20,
   "metadata": {},
   "outputs": [
    {
     "data": {
      "text/plain": [
       "12000.0"
      ]
     },
     "execution_count": 20,
     "metadata": {},
     "output_type": "execute_result"
    }
   ],
   "source": [
    "p1.price"
   ]
  },
  {
   "cell_type": "code",
   "execution_count": 21,
   "metadata": {},
   "outputs": [
    {
     "data": {
      "text/plain": [
       "'AMAZON'"
      ]
     },
     "execution_count": 21,
     "metadata": {},
     "output_type": "execute_result"
    }
   ],
   "source": [
    "p1.platform"
   ]
  },
  {
   "cell_type": "code",
   "execution_count": 22,
   "metadata": {},
   "outputs": [
    {
     "ename": "AttributeError",
     "evalue": "'product' object has no attribute 'discount'",
     "output_type": "error",
     "traceback": [
      "\u001b[1;31m---------------------------------------------------------------------------\u001b[0m",
      "\u001b[1;31mAttributeError\u001b[0m                            Traceback (most recent call last)",
      "Cell \u001b[1;32mIn [22], line 1\u001b[0m\n\u001b[1;32m----> 1\u001b[0m p1\u001b[39m.\u001b[39;49mdiscount\n",
      "\u001b[1;31mAttributeError\u001b[0m: 'product' object has no attribute 'discount'"
     ]
    }
   ],
   "source": [
    "p1.discount"
   ]
  },
  {
   "cell_type": "code",
   "execution_count": null,
   "metadata": {},
   "outputs": [
    {
     "data": {
      "text/plain": [
       "'Nokia'"
      ]
     },
     "execution_count": 33,
     "metadata": {},
     "output_type": "execute_result"
    }
   ],
   "source": [
    "p2.title"
   ]
  },
  {
   "cell_type": "code",
   "execution_count": null,
   "metadata": {},
   "outputs": [
    {
     "data": {
      "text/plain": [
       "10800.0"
      ]
     },
     "execution_count": 42,
     "metadata": {},
     "output_type": "execute_result"
    }
   ],
   "source": [
    "p1.getDiscount()"
   ]
  },
  {
   "cell_type": "code",
   "execution_count": null,
   "metadata": {},
   "outputs": [
    {
     "data": {
      "text/plain": [
       "9000.0"
      ]
     },
     "execution_count": 43,
     "metadata": {},
     "output_type": "execute_result"
    }
   ],
   "source": [
    "p2.getDiscount()"
   ]
  },
  {
   "attachments": {},
   "cell_type": "markdown",
   "metadata": {},
   "source": [
    "  ## "
   ]
  },
  {
   "cell_type": "code",
   "execution_count": null,
   "metadata": {},
   "outputs": [],
   "source": [
    "class product:\n",
    "    # Class variable or attributes\n",
    "    platform= \"AMAZON\"\n",
    "\n",
    "    # Constructore\n",
    "    def __init__(self,title: str,price:float) -> None:\n",
    "       #  instance variable\n",
    "        self.title=title\n",
    "        self.price=price\n",
    "        self.__code=4545 # private\n",
    "\n",
    "    # Methods or Behaviours\n",
    "    def getDiscount(self)->float:\n",
    "        return self.price*0.9\n",
    "    def getCode(self):\n",
    "        return self.__code"
   ]
  },
  {
   "cell_type": "code",
   "execution_count": null,
   "metadata": {},
   "outputs": [],
   "source": [
    "# Object Creation\n",
    "p1=product(\"Iphone\",12000.0)\n",
    "p2=product(\"Nokia\",10000.0)"
   ]
  },
  {
   "cell_type": "code",
   "execution_count": null,
   "metadata": {},
   "outputs": [
    {
     "ename": "AttributeError",
     "evalue": "'product' object has no attribute 'code'",
     "output_type": "error",
     "traceback": [
      "\u001b[1;31m---------------------------------------------------------------------------\u001b[0m",
      "\u001b[1;31mAttributeError\u001b[0m                            Traceback (most recent call last)",
      "Cell \u001b[1;32mIn [58], line 1\u001b[0m\n\u001b[1;32m----> 1\u001b[0m p1\u001b[39m.\u001b[39;49mcode\n",
      "\u001b[1;31mAttributeError\u001b[0m: 'product' object has no attribute 'code'"
     ]
    }
   ],
   "source": [
    "p1.code"
   ]
  },
  {
   "cell_type": "code",
   "execution_count": null,
   "metadata": {},
   "outputs": [
    {
     "data": {
      "text/plain": [
       "'Iphone X'"
      ]
     },
     "execution_count": 62,
     "metadata": {},
     "output_type": "execute_result"
    }
   ],
   "source": [
    "p1.title=\"Iphone X\" #update title\n",
    "p1.title"
   ]
  },
  {
   "cell_type": "code",
   "execution_count": null,
   "metadata": {},
   "outputs": [
    {
     "data": {
      "text/plain": [
       "4545"
      ]
     },
     "execution_count": 59,
     "metadata": {},
     "output_type": "execute_result"
    }
   ],
   "source": [
    "p1.getCode()"
   ]
  },
  {
   "cell_type": "code",
   "execution_count": null,
   "metadata": {},
   "outputs": [
    {
     "ename": "NameError",
     "evalue": "name 'p1' is not defined",
     "output_type": "error",
     "traceback": [
      "\u001b[1;31m---------------------------------------------------------------------------\u001b[0m",
      "\u001b[1;31mNameError\u001b[0m                                 Traceback (most recent call last)",
      "Cell \u001b[1;32mIn [77], line 1\u001b[0m\n\u001b[1;32m----> 1\u001b[0m p1\u001b[39m.\u001b[39mtitle\n",
      "\u001b[1;31mNameError\u001b[0m: name 'p1' is not defined"
     ]
    }
   ],
   "source": [
    "p1.title"
   ]
  },
  {
   "attachments": {},
   "cell_type": "markdown",
   "metadata": {},
   "source": [
    "getter setter delter"
   ]
  },
  {
   "cell_type": "code",
   "execution_count": null,
   "metadata": {},
   "outputs": [],
   "source": [
    "class product:\n",
    "    # Class variable or attributes\n",
    "    platform= \"AMAZON\"\n",
    "\n",
    "    # Constructore\n",
    "    def __init__(self,title: str,price:float) -> None:\n",
    "       #  instance variable\n",
    "        self.title=title\n",
    "        self.price=price\n",
    "        self.__code=4545 # private\n",
    "\n",
    "    # Methods or Behaviours\n",
    "    @property\n",
    "    def code(self):\n",
    "        print(\"Getter method\")\n",
    "        return self.__code\n",
    "\n",
    "        "
   ]
  },
  {
   "cell_type": "code",
   "execution_count": null,
   "metadata": {},
   "outputs": [],
   "source": [
    "p1=product(\"Iphone\",12000.0)\n",
    "p2=product(\"Nokia\",10000.0)"
   ]
  },
  {
   "cell_type": "code",
   "execution_count": null,
   "metadata": {},
   "outputs": [
    {
     "name": "stdout",
     "output_type": "stream",
     "text": [
      "Getter method\n"
     ]
    },
    {
     "data": {
      "text/plain": [
       "4545"
      ]
     },
     "execution_count": 5,
     "metadata": {},
     "output_type": "execute_result"
    }
   ],
   "source": [
    "p1.code"
   ]
  },
  {
   "cell_type": "code",
   "execution_count": null,
   "metadata": {},
   "outputs": [
    {
     "ename": "AttributeError",
     "evalue": "property 'code' of 'product' object has no setter",
     "output_type": "error",
     "traceback": [
      "\u001b[1;31m---------------------------------------------------------------------------\u001b[0m",
      "\u001b[1;31mAttributeError\u001b[0m                            Traceback (most recent call last)",
      "Cell \u001b[1;32mIn [6], line 1\u001b[0m\n\u001b[1;32m----> 1\u001b[0m p1\u001b[39m.\u001b[39;49mcode\u001b[39m=\u001b[39m\u001b[39m9645\u001b[39m\n",
      "\u001b[1;31mAttributeError\u001b[0m: property 'code' of 'product' object has no setter"
     ]
    }
   ],
   "source": [
    "p1.code=9645"
   ]
  },
  {
   "attachments": {},
   "cell_type": "markdown",
   "metadata": {},
   "source": [
    "## "
   ]
  },
  {
   "cell_type": "code",
   "execution_count": 24,
   "metadata": {},
   "outputs": [
    {
     "ename": "NameError",
     "evalue": "name 'code' is not defined",
     "output_type": "error",
     "traceback": [
      "\u001b[1;31m---------------------------------------------------------------------------\u001b[0m",
      "\u001b[1;31mNameError\u001b[0m                                 Traceback (most recent call last)",
      "Cell \u001b[1;32mIn [24], line 1\u001b[0m\n\u001b[1;32m----> 1\u001b[0m \u001b[39mclass\u001b[39;49;00m \u001b[39mproduct\u001b[39;49;00m:\n\u001b[0;32m      2\u001b[0m     \u001b[39m# Class variable or attributes\u001b[39;49;00m\n\u001b[0;32m      3\u001b[0m     platform\u001b[39m=\u001b[39;49m \u001b[39m\"\u001b[39;49m\u001b[39mAMAZON\u001b[39;49m\u001b[39m\"\u001b[39;49m\n\u001b[0;32m      5\u001b[0m     \u001b[39m# Constructore\u001b[39;49;00m\n",
      "Cell \u001b[1;32mIn [24], line 13\u001b[0m, in \u001b[0;36mproduct\u001b[1;34m()\u001b[0m\n\u001b[0;32m     10\u001b[0m     \u001b[39mself\u001b[39m\u001b[39m.\u001b[39m__code\u001b[39m=\u001b[39m\u001b[39m4545\u001b[39m \u001b[39m# private\u001b[39;00m\n\u001b[0;32m     12\u001b[0m \u001b[39m# Methods or Behaviours\u001b[39;00m\n\u001b[1;32m---> 13\u001b[0m \u001b[39m@code\u001b[39m\u001b[39m.\u001b[39msetter \n\u001b[0;32m     14\u001b[0m \u001b[39mdef\u001b[39;00m \u001b[39mcode\u001b[39m(\u001b[39mself\u001b[39m,val):\n\u001b[0;32m     15\u001b[0m     \u001b[39mprint\u001b[39m(\u001b[39m\"\u001b[39m\u001b[39mis setter\u001b[39m\u001b[39m\"\u001b[39m)\n\u001b[0;32m     16\u001b[0m     \u001b[39mself\u001b[39m\u001b[39m.\u001b[39m__code\u001b[39m=\u001b[39mval\n",
      "\u001b[1;31mNameError\u001b[0m: name 'code' is not defined"
     ]
    }
   ],
   "source": [
    "class product:\n",
    "    # Class variable or attributes\n",
    "    platform= \"AMAZON\"\n",
    "\n",
    "    # Constructore\n",
    "    def __init__(self,title: str,price:float) -> None:\n",
    "       #  instance variable\n",
    "        self.title=title\n",
    "        self.price=price\n",
    "        self.__code=4545 # private\n",
    "\n",
    "    # Methods or Behaviours\n",
    "    @code.setter \n",
    "    def code(self,val):\n",
    "        print(\"is setter\")\n",
    "        self.__code=val"
   ]
  },
  {
   "cell_type": "code",
   "execution_count": null,
   "metadata": {},
   "outputs": [],
   "source": [
    "p1=product(\"Iphone\",12000.0)\n",
    "p2=product(\"Nokia\",10000.0)"
   ]
  },
  {
   "attachments": {},
   "cell_type": "markdown",
   "metadata": {},
   "source": [
    "Other"
   ]
  },
  {
   "cell_type": "code",
   "execution_count": 11,
   "metadata": {},
   "outputs": [],
   "source": [
    "class product:\n",
    "    # Class variable or attributes\n",
    "    platform= \"AMAZON\"\n",
    "\n",
    "    # Constructore\n",
    "    def __init__(self,title: str,price:float) -> None:\n",
    "       #  instance variable\n",
    "        self.title=title\n",
    "        self.price=price\n",
    "        self.__code=4545 # private\n",
    "\n",
    "    # Methods or Behaviours\n",
    "    @property\n",
    "    def code(self):\n",
    "        print(\"Getter method\")\n",
    "        return self.__code\n",
    "\n",
    "    # special Method or magic method\n",
    "    def __repr__(self) -> str:\n",
    "        return f\"product(title={self.title})\""
   ]
  },
  {
   "cell_type": "code",
   "execution_count": 12,
   "metadata": {},
   "outputs": [],
   "source": [
    "p1=product(\"Iphone\",12000.0)\n",
    "p2=product(\"Nokia\",10000.0)"
   ]
  },
  {
   "cell_type": "code",
   "execution_count": 13,
   "metadata": {},
   "outputs": [
    {
     "data": {
      "text/plain": [
       "product(title=Iphone)"
      ]
     },
     "execution_count": 13,
     "metadata": {},
     "output_type": "execute_result"
    }
   ],
   "source": [
    "p1"
   ]
  },
  {
   "cell_type": "code",
   "execution_count": 10,
   "metadata": {},
   "outputs": [
    {
     "data": {
      "text/plain": [
       "'Iphone'"
      ]
     },
     "execution_count": 10,
     "metadata": {},
     "output_type": "execute_result"
    }
   ],
   "source": [
    "p1.title"
   ]
  },
  {
   "attachments": {},
   "cell_type": "markdown",
   "metadata": {},
   "source": [
    "Magic Method"
   ]
  },
  {
   "cell_type": "code",
   "execution_count": 63,
   "metadata": {},
   "outputs": [],
   "source": [
    "class product:\n",
    "    # Class variable or attributes\n",
    "    platform= \"AMAZON\"\n",
    "\n",
    "    # Constructore\n",
    "    def __init__(self,title: str,price:float) -> None:\n",
    "       #  instance variable\n",
    "        self.title=title\n",
    "        self.price=price\n",
    "        self.__code=4545 # private\n",
    "\n",
    "    # Methods or Behaviours\n",
    "    @property\n",
    "    def code(self):\n",
    "        print(\"Getter method\")\n",
    "        return self.__code\n",
    "\n",
    "    # special Method or magic method\n",
    "    def __repr__(self) -> str:\n",
    "        return f\"product(title={self.title})\"\n",
    "\n",
    "    def __gt__(self,other)->bool: #gt means getter than\n",
    "        return self.price>other.price\n",
    "\n",
    "    def __lt__(self,other)->bool:# lt means less than\n",
    "        return self.price<other.price\n",
    "\n",
    "    def __ge__(self,other)->bool:\n",
    "        return self.price>=other.price\n",
    "\n",
    "    def __add__(self,other)->float:\n",
    "        return self.price+other.price\n"
   ]
  },
  {
   "cell_type": "code",
   "execution_count": 61,
   "metadata": {},
   "outputs": [],
   "source": [
    "p1=product(\"Iphone\",12000.0)\n",
    "p2=product(\"Nokia\",10000.0)"
   ]
  },
  {
   "cell_type": "code",
   "execution_count": 50,
   "metadata": {},
   "outputs": [
    {
     "data": {
      "text/plain": [
       "True"
      ]
     },
     "execution_count": 50,
     "metadata": {},
     "output_type": "execute_result"
    }
   ],
   "source": [
    "p1>p2"
   ]
  },
  {
   "cell_type": "code",
   "execution_count": 51,
   "metadata": {},
   "outputs": [
    {
     "data": {
      "text/plain": [
       "False"
      ]
     },
     "execution_count": 51,
     "metadata": {},
     "output_type": "execute_result"
    }
   ],
   "source": [
    "p1<p2"
   ]
  },
  {
   "cell_type": "code",
   "execution_count": 52,
   "metadata": {},
   "outputs": [
    {
     "data": {
      "text/plain": [
       "False"
      ]
     },
     "execution_count": 52,
     "metadata": {},
     "output_type": "execute_result"
    }
   ],
   "source": [
    "p1<=p2"
   ]
  },
  {
   "cell_type": "code",
   "execution_count": 62,
   "metadata": {},
   "outputs": [
    {
     "data": {
      "text/plain": [
       "22000.0"
      ]
     },
     "execution_count": 62,
     "metadata": {},
     "output_type": "execute_result"
    }
   ],
   "source": [
    "p1+p2"
   ]
  },
  {
   "attachments": {},
   "cell_type": "markdown",
   "metadata": {},
   "source": [
    "## Classmethod and Static method"
   ]
  },
  {
   "cell_type": "code",
   "execution_count": 90,
   "metadata": {},
   "outputs": [],
   "source": [
    "class product:\n",
    "    # Class variable or attributes\n",
    "    platform= \"AMAZON\"\n",
    "\n",
    "    # Constructore\n",
    "    def __init__(self,title: str,price:float) -> None:\n",
    "       #  instance variable\n",
    "        self.title=title\n",
    "        self.price=price\n",
    "        self.__code=4545 # private\n",
    "\n",
    "    @classmethod\n",
    "    def objectFromString(cls,string:str):\n",
    "      title,price=string.split('-')\n",
    "      object=cls(title,float(price))\n",
    "      return object\n",
    "\n",
    "    @staticmethod\n",
    "    def add(x,y):\n",
    "        return x+y"
   ]
  },
  {
   "cell_type": "code",
   "execution_count": 75,
   "metadata": {},
   "outputs": [
    {
     "data": {
      "text/plain": [
       "'Nokia y-11000'"
      ]
     },
     "execution_count": 75,
     "metadata": {},
     "output_type": "execute_result"
    }
   ],
   "source": [
    "\"Nokia y-11000\""
   ]
  },
  {
   "cell_type": "code",
   "execution_count": 86,
   "metadata": {},
   "outputs": [
    {
     "data": {
      "text/plain": [
       "<__main__.product at 0x22d41149410>"
      ]
     },
     "execution_count": 86,
     "metadata": {},
     "output_type": "execute_result"
    }
   ],
   "source": [
    "product.objectFromString(\"Nokia y-110000\")"
   ]
  },
  {
   "cell_type": "code",
   "execution_count": 87,
   "metadata": {},
   "outputs": [],
   "source": [
    "p3=product.objectFromString(\"Nokia y-10000\")"
   ]
  },
  {
   "cell_type": "code",
   "execution_count": 88,
   "metadata": {},
   "outputs": [
    {
     "data": {
      "text/plain": [
       "10000.0"
      ]
     },
     "execution_count": 88,
     "metadata": {},
     "output_type": "execute_result"
    }
   ],
   "source": [
    "p3.price"
   ]
  },
  {
   "cell_type": "code",
   "execution_count": 89,
   "metadata": {},
   "outputs": [
    {
     "data": {
      "text/plain": [
       "'Nokia y'"
      ]
     },
     "execution_count": 89,
     "metadata": {},
     "output_type": "execute_result"
    }
   ],
   "source": [
    "p3.title"
   ]
  },
  {
   "cell_type": "code",
   "execution_count": 93,
   "metadata": {},
   "outputs": [
    {
     "data": {
      "text/plain": [
       "10"
      ]
     },
     "execution_count": 93,
     "metadata": {},
     "output_type": "execute_result"
    }
   ],
   "source": [
    "product.add(5,5)"
   ]
  },
  {
   "cell_type": "code",
   "execution_count": null,
   "metadata": {},
   "outputs": [],
   "source": []
  },
  {
   "cell_type": "code",
   "execution_count": null,
   "metadata": {},
   "outputs": [],
   "source": []
  },
  {
   "cell_type": "code",
   "execution_count": null,
   "metadata": {},
   "outputs": [],
   "source": []
  }
 ],
 "metadata": {
  "kernelspec": {
   "display_name": "Python 3",
   "language": "python",
   "name": "python3"
  },
  "language_info": {
   "codemirror_mode": {
    "name": "ipython",
    "version": 3
   },
   "file_extension": ".py",
   "mimetype": "text/x-python",
   "name": "python",
   "nbconvert_exporter": "python",
   "pygments_lexer": "ipython3",
   "version": "3.11.0"
  },
  "orig_nbformat": 4,
  "vscode": {
   "interpreter": {
    "hash": "6cd7ecbf46b3498f952f614292bd9b98de37d868a382baadab1fa3f5188ed6c2"
   }
  }
 },
 "nbformat": 4,
 "nbformat_minor": 2
}

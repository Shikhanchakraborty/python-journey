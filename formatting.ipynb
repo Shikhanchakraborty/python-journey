{
 "cells": [
  {
   "cell_type": "markdown",
   "metadata": {},
   "source": [
    "Formatting"
   ]
  },
  {
   "cell_type": "code",
   "execution_count": 2,
   "metadata": {},
   "outputs": [
    {
     "name": "stdout",
     "output_type": "stream",
     "text": [
      "name:  Shikhan age:  26 height: 12.546\n"
     ]
    }
   ],
   "source": [
    "# type number 1 formatting\n",
    "name=\"Shikhan\"\n",
    "age=26\n",
    "height=12.546\n",
    "print(\"name: \",name,\"age: \",age,\"height:\",height)"
   ]
  },
  {
   "cell_type": "code",
   "execution_count": 6,
   "metadata": {},
   "outputs": [
    {
     "name": "stdout",
     "output_type": "stream",
     "text": [
      "name: Shikhan age: 26 height: 12.546\n"
     ]
    }
   ],
   "source": [
    "# type number 2 formatting\n",
    "name=\"Shikhan\"\n",
    "age=26\n",
    "height=12.546\n",
    "print(\"name: {0} age: {1} height: {2}\".format(name,age,height))"
   ]
  },
  {
   "cell_type": "code",
   "execution_count": 8,
   "metadata": {},
   "outputs": [
    {
     "name": "stdout",
     "output_type": "stream",
     "text": [
      "name: Shikhan age: 26 height: 12.546\n"
     ]
    }
   ],
   "source": [
    "# type number 3 formatting\n",
    "name=\"Shikhan\"\n",
    "age=26\n",
    "height=12.546\n",
    "print(\"name: %s age: %d height: %.3f\"%(name,age,height))"
   ]
  },
  {
   "cell_type": "code",
   "execution_count": 9,
   "metadata": {},
   "outputs": [
    {
     "name": "stdout",
     "output_type": "stream",
     "text": [
      "name: Shikhan age: 26 height: 12.546\n"
     ]
    }
   ],
   "source": [
    "# type number 4 formatting\n",
    "name=\"Shikhan\"\n",
    "age=26\n",
    "height=12.546\n",
    "print(f\"name: {name} age: {age} height: {height}\")"
   ]
  },
  {
   "cell_type": "code",
   "execution_count": 11,
   "metadata": {},
   "outputs": [
    {
     "name": "stdout",
     "output_type": "stream",
     "text": [
      "name: Shikhan age: 26 height:  12.55\n"
     ]
    }
   ],
   "source": [
    "name=\"Shikhan\"\n",
    "age=26\n",
    "height=12.546\n",
    "print(f\"name: {name} age: {age} height: {height: .2f}\")"
   ]
  },
  {
   "cell_type": "code",
   "execution_count": 1,
   "metadata": {},
   "outputs": [
    {
     "name": "stdout",
     "output_type": "stream",
     "text": [
      "name: kakan age: 66 height:  12.26\n"
     ]
    }
   ],
   "source": [
    "name=\"kakan\"\n",
    "age=66\n",
    "height=12.258\n",
    "print(f\"name: {name} age: {age} height: {height: .2f}\")"
   ]
  }
 ],
 "metadata": {
  "kernelspec": {
   "display_name": "Python 3.11.0 64-bit",
   "language": "python",
   "name": "python3"
  },
  "language_info": {
   "codemirror_mode": {
    "name": "ipython",
    "version": 3
   },
   "file_extension": ".py",
   "mimetype": "text/x-python",
   "name": "python",
   "nbconvert_exporter": "python",
   "pygments_lexer": "ipython3",
   "version": "3.11.0"
  },
  "orig_nbformat": 4,
  "vscode": {
   "interpreter": {
    "hash": "6cd7ecbf46b3498f952f614292bd9b98de37d868a382baadab1fa3f5188ed6c2"
   }
  }
 },
 "nbformat": 4,
 "nbformat_minor": 2
}
